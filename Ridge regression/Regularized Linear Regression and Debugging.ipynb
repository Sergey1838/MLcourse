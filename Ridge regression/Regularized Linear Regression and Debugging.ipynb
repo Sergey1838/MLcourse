{
 "cells": [
  {
   "cell_type": "markdown",
   "metadata": {},
   "source": [
    "# Midterm\n",
    "\n",
    "Do not use scikit-learn API in section 1-3. \n",
    "\n",
    "### Name: Serhii Ovsianyk"
   ]
  },
  {
   "cell_type": "code",
   "execution_count": 1,
   "metadata": {},
   "outputs": [],
   "source": [
    "# used for manipulating directory paths\n",
    "import os\n",
    "\n",
    "# Scientific and vector computation for python\n",
    "import numpy as np\n",
    "\n",
    "# Plotting library\n",
    "from matplotlib import pyplot\n",
    "\n",
    "# Optimization module in scipy\n",
    "from scipy import optimize\n",
    "\n",
    "# will be used to load MATLAB mat datafile format\n",
    "from scipy.io import loadmat\n",
    "\n",
    "# tells matplotlib to embed plots within the notebook\n",
    "%matplotlib inline\n",
    "\n",
    "import scipy.io as scio\n"
   ]
  },
  {
   "cell_type": "markdown",
   "metadata": {},
   "source": [
    "<a id=\"section1\"></a>\n",
    "## 1 Regularized Linear Regression (20 pts)\n",
    "\n",
    "In the first half of the exam, you will implement regularized linear regression to predict the amount of water flowing out of a dam using the change of water level in a reservoir. In the next half, you will go through some diagnostics of debugging learning algorithms and examine the effects of bias v.s.\n",
    "variance. \n",
    "\n",
    "### 1.1 Visualizing the dataset\n",
    "\n",
    "We will begin by visualizing the dataset containing historical records on the change in the water level, $x$, and the amount of water flowing out of the dam, $y$. This dataset is divided into three parts:\n",
    "\n",
    "- A **training** set that your model will learn on: `X`, `y`\n",
    "- A **cross validation** set for determining the regularization parameter: `Xval`, `yval`\n",
    "- A **test** set for evaluating performance. These are “unseen” examples which your model did not see during training: `Xtest`, `ytest`\n",
    "\n",
    "Run the next cell to plot the training data. In the following parts, you will implement linear regression and use that to fit a straight line to the data and plot learning curves. Following that, you will implement polynomial regression to find a better fit to the data."
   ]
  },
  {
   "cell_type": "code",
   "execution_count": 2,
   "metadata": {
    "scrolled": true
   },
   "outputs": [
    {
     "data": {
      "image/png": "[encoded data removed]",
      "text/plain": [
       "<Figure size 432x288 with 1 Axes>"
      ]
     },
     "metadata": {
      "needs_background": "light"
     },
     "output_type": "display_data"
    }
   ],
   "source": [
    "# Load from ex5data1.mat, where all variables will be store in a dictionary\n",
    "data = scio.loadmat('data1.mat')\n",
    "\n",
    "# Extract train, test, validation data from dictionary\n",
    "X = data['X']\n",
    "y = data['y'].flatten()\n",
    "Xval = data['Xval']\n",
    "yval = data['yval'].flatten()\n",
    "Xtest = data['Xtest']\n",
    "ytest = data['ytest'].flatten()\n",
    "\n",
    "# m = Number of examples\n",
    "m = y.size\n",
    "\n",
    "# Plot training data\n",
    "pyplot.plot(X, y, 'ro', ms=10, mec='k', mew=1)\n",
    "pyplot.xlabel('Change in water level (x)')\n",
    "pyplot.ylabel('Water flowing out of the dam (y)');"
   ]
  },
  {
   "cell_type": "markdown",
   "metadata": {},
   "source": [
    "### 1.2 Regularized linear regression cost function and gradient (10 pts)\n",
    "\n",
    "Recall that regularized linear regression has the following cost function:\n",
    "\n",
    "$$ J(\\theta) = \\frac{1}{2m} \\left( \\sum_{i=1}^m \\left( h_\\theta\\left( x^{(i)} \\right) - y^{(i)} \\right)^2 \\right) + \\frac{\\lambda}{2m} \\left( \\sum_{j=1}^n \\theta_j^2 \\right)$$\n",
    "\n",
    "where $\\lambda$ is a regularization parameter which controls the degree of regularization (thus, help preventing overfitting). The regularization term puts a penalty on the overall cost J. As the magnitudes of the model parameters $\\theta_j$ increase, the penalty increases as well. Note that you should not regularize\n",
    "the $\\theta_0$ term.\n",
    "\n",
    "You should now complete the code in the function `linearRegCostFunction` in the next cell. Your task is to calculate the regularized linear regression cost function. If possible, try to vectorize your code and avoid writing loops.\n",
    "<a id=\"linearRegCostFunction\"></a>\n",
    "\n",
    "\n",
    "\n",
    "Correspondingly, the partial derivative of the cost function for regularized linear regression is defined as:\n",
    "\n",
    "$$\n",
    "\\begin{align}\n",
    "& \\frac{\\partial J(\\theta)}{\\partial \\theta_0} = \\frac{1}{m} \\sum_{i=1}^m \\left( h_\\theta \\left(x^{(i)} \\right) - y^{(i)} \\right) x_j^{(i)} & \\qquad \\text{for } j = 0 \\\\\n",
    "& \\frac{\\partial J(\\theta)}{\\partial \\theta_j} = \\left( \\frac{1}{m} \\sum_{i=1}^m \\left( h_\\theta \\left( x^{(i)} \\right) - y^{(i)} \\right) x_j^{(i)} \\right) + \\frac{\\lambda}{m} \\theta_j & \\qquad \\text{for } j \\ge 1\n",
    "\\end{align}\n",
    "$$\n",
    "\n",
    "In the function [`linearRegCostFunction`](#linearRegCostFunction) below, add code to calculate the gradient, returning it in the variable `grad`. "
   ]
  },
  {
   "cell_type": "code",
   "execution_count": 3,
   "metadata": {},
   "outputs": [],
   "source": [
    "def linearRegCostFunction(theta, X, y, lambda_=0.0):\n",
    "    \"\"\"\n",
    "    Compute cost and gradient for regularized linear regression \n",
    "    with multiple variables. Computes the cost of using theta as\n",
    "    the parameter for linear regression to fit the data points in X and y. \n",
    "    \n",
    "    Parameters\n",
    "    ----------\n",
    "    theta : array_like\n",
    "        The parameters for linear regression. A vector of shape (n+1,).\n",
    "    \n",
    "    X : array_like\n",
    "        The dataset. Matrix with shape (m x n + 1) where m is the \n",
    "        total number of examples, and n is the number of features \n",
    "        before adding the bias term.\n",
    "    \n",
    "    y : array_like\n",
    "        The functions values at each datapoint. A vector of\n",
    "        shape (m, ).\n",
    "    \n",
    "    lambda_ : float, optional\n",
    "        The regularization parameter.\n",
    "    \n",
    "    Returns\n",
    "    -------\n",
    "    J : float\n",
    "        The computed cost function. \n",
    "    \n",
    "    grad : array_like\n",
    "        The value of the cost function gradient w.r.t theta. \n",
    "        A vector of shape (n+1, ).\n",
    "    \n",
    "    Instructions\n",
    "    ------------\n",
    "    Compute the cost and gradient of regularized linear regression for\n",
    "    a particular choice of theta.\n",
    "    You should set J to the cost and grad to the gradient.\n",
    "    \"\"\"\n",
    "    # Initialize some useful values\n",
    "    m = y.size # number of training examples\n",
    "\n",
    "    # You need to return the following variables correctly \n",
    "    J = 0\n",
    "    grad = np.zeros(theta.shape)\n",
    "\n",
    "    # ====================== YOUR CODE HERE ======================\n",
    "    \n",
    "    theta_copy = np.copy(theta)\n",
    "    theta_copy = theta_copy[1:]\n",
    "    \n",
    "\n",
    "    J =(((X.dot(theta) - y) ** 2).sum()/ (2*m)) + ((lambda_)/(2*m) * (theta_copy ** 2).sum())\n",
    "    \n",
    "    \n",
    "\n",
    "    for j in range(theta.shape[0]):\n",
    "        if (j == 0):\n",
    "            grad[j] = (((X.dot(theta) - y).T.dot(X[:,j]))/m)\n",
    "        else:\n",
    "            grad[j] = ((((X.dot(theta) - y).T.dot(X[:,j]))/m) + ((lambda_/m)*theta[j]))\n",
    "    \n",
    "    \n",
    "    \n",
    "\n",
    "    \n",
    "    # ============================================================\n",
    "    return J, grad"
   ]
  },
  {
   "cell_type": "markdown",
   "metadata": {},
   "source": [
    "When you are finished, the next cell will run your cost function using `theta` initialized at `[1, 1]`. "
   ]
  },
  {
   "cell_type": "code",
   "execution_count": 4,
   "metadata": {},
   "outputs": [
    {
     "name": "stdout",
     "output_type": "stream",
     "text": [
      "Cost at theta = [1, 1]:\t   303.993192 \n",
      "Gradient at theta = [1, 1]:  [-15.303016, 598.250744] \n"
     ]
    }
   ],
   "source": [
    "theta = np.array([1, 1])\n",
    "J, grad = linearRegCostFunction(theta, np.concatenate([np.ones((m, 1)), X], axis=1), y, 1)\n",
    "\n",
    "print('Cost at theta = [1, 1]:\\t   %f ' % J)\n",
    "\n",
    "print('Gradient at theta = [1, 1]:  [{:.6f}, {:.6f}] '.format(*grad))"
   ]
  },
  {
   "cell_type": "markdown",
   "metadata": {},
   "source": [
    "### 1.3 Fitting linear regression (10 pts)\n",
    "\n",
    "Next, you need to define `train_linear_reg` to compute the optimal values of $\\theta$. This training function uses `scipy`'s optimization module to minimize the cost function.\n",
    "\n",
    "In this part, we set regularization parameter $\\lambda$ to zero. Because our current implementation of linear regression is trying to fit a 2-dimensional $\\theta$, regularization will not be incredibly helpful for a $\\theta$ of such low dimension. In the later parts of the exercise, you will be using polynomial regression with regularization.\n",
    "\n",
    "Finally, the code in the next cell should also plot the best fit line. "
   ]
  },
  {
   "cell_type": "code",
   "execution_count": 5,
   "metadata": {},
   "outputs": [],
   "source": [
    "import scipy.optimize as opt"
   ]
  },
  {
   "cell_type": "code",
   "execution_count": 6,
   "metadata": {},
   "outputs": [],
   "source": [
    "def train_linear_reg(X, y, lambda_):\n",
    "    initial_theta = np.ones(X.shape[1])\n",
    "    \n",
    "\n",
    "    \n",
    "    # ====================== YOUR CODE HERE ======================\n",
    "    res = optimize.minimize(linearRegCostFunction, initial_theta, args = (X, y, lambda_), jac = True, method = 'TNC')\n",
    "    \n",
    "    \n",
    "\n",
    "    return res.x\n",
    "    # ============================================================\n",
    "    \n",
    "   "
   ]
  },
  {
   "cell_type": "code",
   "execution_count": 7,
   "metadata": {},
   "outputs": [],
   "source": [
    "lambda_=0"
   ]
  },
  {
   "cell_type": "code",
   "execution_count": 8,
   "metadata": {},
   "outputs": [
    {
     "data": {
      "image/png": "[encoded data removed]",
      "text/plain": [
       "<Figure size 432x288 with 1 Axes>"
      ]
     },
     "metadata": {
      "needs_background": "light"
     },
     "output_type": "display_data"
    }
   ],
   "source": [
    "X_aug = np.c_[np.ones(m), X]\n",
    "theta = train_linear_reg(X_aug, y, lambda_)\n",
    "#  Plot fit over the data\n",
    "pyplot.plot(X, y, 'ro', ms=10, mec='k', mew=1.5)\n",
    "pyplot.xlabel('Change in water level (x)')\n",
    "pyplot.ylabel('Water flowing out of the dam (y)')\n",
    "pyplot.plot(X, np.dot(X_aug, theta), '--', lw=2);"
   ]
  },
  {
   "cell_type": "markdown",
   "metadata": {},
   "source": [
    "The best fit line tells us that the model is not a good fit to the data because the data has a non-linear pattern. While visualizing the best fit as shown is one possible way to debug your learning algorithm, it is not always easy to visualize the data and model. In the next section, you will implement a function to generate learning curves that can help you debug your learning algorithm even if it is not easy to visualize the\n",
    "data."
   ]
  },
  {
   "cell_type": "markdown",
   "metadata": {},
   "source": [
    "<a id=\"section3\"></a>\n",
    "## 2 Bias-variance (10 pts)\n",
    "\n",
    "An important concept in machine learning is the bias-variance tradeoff. Models with high bias are not complex enough for the data and tend to underfit, while models with high variance overfit to the training data.\n",
    "\n",
    "Next, you will plot training and testing errors on a learning curve to diagnose bias-variance problems.\n",
    "\n",
    "### 2.1 Learning Curves (10 pts)\n",
    "\n",
    "You will now implement code to generate the learning curves that will be useful in debugging learning algorithms. Recall that a learning curve plots training and cross validation error as a function of training set size. Your job is to fill in the function `learningCurve` in the next cell, so that it returns a vector of errors for the training set and cross validation set.\n",
    "\n",
    "To plot the learning curve, we need a training and cross validation set error for different training set sizes. To obtain different training set sizes, you should use different subsets of the original training set `X`. Specifically, for a training set size of $i$, you should use the first $i$ examples (i.e., `X[:i, :]`\n",
    "and `y[:i]`).\n",
    "\n",
    "You can use the `train_linear_reg` function to find the $\\theta$ parameters. Note that the `lambda_` is passed as a parameter to the `learningCurve` function.\n",
    "After learning the $\\theta$ parameters, you should compute the error on the training and cross validation sets. Recall that the training error for a dataset is defined as\n",
    "\n",
    "$$ J_{\\text{train}} = \\frac{1}{2m} \\left[ \\sum_{i=1}^m \\left(h_\\theta \\left( x^{(i)} \\right) - y^{(i)} \\right)^2 \\right] $$\n",
    "\n",
    "In particular, note that the training error does not include the regularization term. One way to compute the training error is to use your existing cost function and set $\\lambda$ to 0 only when using it to compute the training error and cross validation error. When you are computing the training set error, make sure you compute it on the training subset (i.e., `X[:n,:]` and `y[:n]`) instead of the entire training set. However, for the cross validation error, you should compute it over the entire cross validation set. You should store\n",
    "the computed errors in the vectors error train and error val.\n",
    "\n",
    "<a id=\"func2\"></a>"
   ]
  },
  {
   "cell_type": "code",
   "execution_count": 9,
   "metadata": {},
   "outputs": [],
   "source": [
    "def learningCurve(X, y, Xval, yval, lambda_=0):\n",
    "    \"\"\"\n",
    "    Generates the train and cross validation set errors needed to plot a learning curve\n",
    "    returns the train and cross validation set errors for a learning curve. \n",
    "    \n",
    "    In this function, you will compute the train and test errors for\n",
    "    dataset sizes from 1 up to m. In practice, when working with larger\n",
    "    datasets, you might want to do this in larger intervals.\n",
    "    \n",
    "    Parameters\n",
    "    ----------\n",
    "    X : array_like\n",
    "        The training dataset. Matrix with shape (m x n + 1) where m is the \n",
    "        total number of examples, and n is the number of features \n",
    "        before adding the bias term.\n",
    "    \n",
    "    y : array_like\n",
    "        The functions values at each training datapoint. A vector of\n",
    "        shape (m, ).\n",
    "    \n",
    "    Xval : array_like\n",
    "        The validation dataset. Matrix with shape (m_val x n + 1) where m is the \n",
    "        total number of examples, and n is the number of features \n",
    "        before adding the bias term.\n",
    "    \n",
    "    yval : array_like\n",
    "        The functions values at each validation datapoint. A vector of\n",
    "        shape (m_val, ).\n",
    "    \n",
    "    lambda_ : float, optional\n",
    "        The regularization parameter.\n",
    "    \n",
    "    Returns\n",
    "    -------\n",
    "    error_train : array_like\n",
    "        A vector of shape m. error_train[i] contains the training error for\n",
    "        i examples.\n",
    "    error_val : array_like\n",
    "        A vecotr of shape m. error_val[i] contains the validation error for\n",
    "        i training examples.\n",
    "    \n",
    "    Instructions\n",
    "    ------------\n",
    "    Fill in this function to return training errors in error_train and the\n",
    "    cross validation errors in error_val. i.e., error_train[i] and \n",
    "    error_val[i] should give you the errors obtained after training on i examples.\n",
    "    \n",
    "    Notes\n",
    "    -----\n",
    "    - You should evaluate the training error on the first i training\n",
    "      examples (i.e., X[:i, :] and y[:i]).\n",
    "    \n",
    "      For the cross-validation error, you should instead evaluate on\n",
    "      the _entire_ cross validation set (Xval and yval).\n",
    "    \n",
    "    - If you are using your cost function (linearRegCostFunction) to compute\n",
    "      the training and cross validation error, you should call the function with\n",
    "      the lambda argument set to 0. Do note that you will still need to use\n",
    "      lambda when running the training to obtain the theta parameters.\n",
    "    \n",
    "    Hint\n",
    "    ----\n",
    "    You can loop over the examples with the following:\n",
    "     \n",
    "           for i in range(1, m+1):\n",
    "               # Compute train/cross validation errors using training examples \n",
    "               # X[:i, :] and y[:i], storing the result in \n",
    "               # error_train[i-1] and error_val[i-1]\n",
    "               ....  \n",
    "    \"\"\"\n",
    "    # Number of training examples\n",
    "    m = y.size\n",
    "\n",
    "    # You need to return these values correctly\n",
    "    error_train = np.zeros(m)\n",
    "    error_val   = np.zeros(m)\n",
    "\n",
    "    # ====================== YOUR CODE HERE ======================\n",
    "    for i in range(1,m+1):\n",
    "        theta = train_linear_reg(X[:i, :],y[:i],lambda_)\n",
    "        error_train[i-1] = linearRegCostFunction(theta, X[:i, :],y[:i],lambda_=0)[0]\n",
    "        error_val[i-1] = linearRegCostFunction(theta, Xval,yval,lambda_=0)[0]\n",
    "        \n",
    "    \n",
    "    \n",
    "    \n",
    "    \n",
    "\n",
    "\n",
    "        \n",
    "    # =============================================================\n",
    "    return error_train, error_val"
   ]
  },
  {
   "cell_type": "markdown",
   "metadata": {},
   "source": [
    "When you are finished implementing the function `learningCurve`, executing the next cell prints the learning curves."
   ]
  },
  {
   "cell_type": "code",
   "execution_count": 10,
   "metadata": {},
   "outputs": [
    {
     "name": "stdout",
     "output_type": "stream",
     "text": [
      "# Training Examples\tTrain Error\tCross Validation Error\n",
      "  \t1\t\t0.000000\t169.870708\n",
      "  \t2\t\t0.000000\t110.300366\n",
      "  \t3\t\t3.286595\t45.010231\n",
      "  \t4\t\t2.842678\t48.368911\n",
      "  \t5\t\t13.154049\t35.865165\n",
      "  \t6\t\t19.443963\t33.829962\n",
      "  \t7\t\t20.098522\t31.970986\n",
      "  \t8\t\t18.172859\t30.862446\n",
      "  \t9\t\t22.609405\t31.135998\n",
      "  \t10\t\t23.261462\t28.936208\n",
      "  \t11\t\t24.317250\t29.551431\n",
      "  \t12\t\t22.373906\t29.433818\n"
     ]
    },
    {
     "data": {
      "image/png": "[encoded data removed]",
      "text/plain": [
       "<Figure size 432x288 with 1 Axes>"
      ]
     },
     "metadata": {
      "needs_background": "light"
     },
     "output_type": "display_data"
    }
   ],
   "source": [
    "X_aug = np.concatenate([np.ones((m, 1)), X], axis=1)\n",
    "Xval_aug = np.concatenate([np.ones((yval.size, 1)), Xval], axis=1)\n",
    "error_train, error_val = learningCurve(X_aug, y, Xval_aug, yval, lambda_=0)\n",
    "\n",
    "pyplot.plot(np.arange(1, m+1), error_train, np.arange(1, m+1), error_val, lw=2)\n",
    "pyplot.title('Learning curve for linear regression')\n",
    "pyplot.legend(['Train', 'Cross Validation'])\n",
    "pyplot.xlabel('Number of training examples')\n",
    "pyplot.ylabel('Error')\n",
    "pyplot.axis([0, 13, 0, 150])\n",
    "\n",
    "print('# Training Examples\\tTrain Error\\tCross Validation Error')\n",
    "for i in range(m):\n",
    "    print('  \\t%d\\t\\t%f\\t%f' % (i+1, error_train[i], error_val[i]))"
   ]
  },
  {
   "cell_type": "markdown",
   "metadata": {},
   "source": [
    "In the learning curve figure, you can observe that both the train error and cross validation error are high when the number of training examples is increased. This reflects a high bias problem in the model - the linear regression model is too simple and is unable to fit our dataset well. In the next section, you will implement polynomial regression to fit a better model for this dataset."
   ]
  },
  {
   "cell_type": "markdown",
   "metadata": {},
   "source": [
    "<a id=\"section4\"></a>\n",
    "\n",
    "## 3 Polynomial regression (30 pts)\n",
    "\n",
    "The problem with our linear model was that it was too simple for the data\n",
    "and resulted in underfitting (high bias). Next, you will address this problem by adding more features. For polynomial regression, our hypothesis has the form:\n",
    "\n",
    "$$\n",
    "\\begin{align}\n",
    "h_\\theta(x)  &= \\theta_0 + \\theta_1 \\times (\\text{waterLevel}) + \\theta_2 \\times (\\text{waterLevel})^2 + \\cdots + \\theta_p \\times (\\text{waterLevel})^p \\\\\n",
    "& = \\theta_0 + \\theta_1 x_1 + \\theta_2 x_2 + \\cdots + \\theta_p x_p\n",
    "\\end{align}\n",
    "$$\n",
    "\n",
    "Notice that by defining $x_1 = (\\text{waterLevel})$, $x_2 = (\\text{waterLevel})^2$ , $\\cdots$, $x_p =\n",
    "(\\text{waterLevel})^p$, we obtain a linear regression model where the features are the various powers of the original value (waterLevel).\n",
    "\n",
    "Now, you will add more features using the higher powers of the existing feature $x$ in the dataset. Your task in this part is to complete the code in the function `polyFeatures` in the next cell. The function should map the original training set $X$ of size $m \\times 1$ into its higher powers. Specifically, when a training set $X$ of size $m \\times 1$ is passed into the function, the function should return a $m \\times p$ matrix `X_poly`, where column 1 holds the original values of X, column 2 holds the values of $X^2$, column 3 holds the values of $X^3$, and so on. Note that you don’t have to account for the zero-eth power in this function.\n",
    "\n",
    "<a id=\"polyFeatures\"></a>"
   ]
  },
  {
   "cell_type": "markdown",
   "metadata": {},
   "source": [
    "### 3.1 Polynomial Features (10 pts)"
   ]
  },
  {
   "cell_type": "code",
   "execution_count": 11,
   "metadata": {},
   "outputs": [],
   "source": [
    "def polyFeatures(X, p):\n",
    "    \"\"\"\n",
    "    Maps X (1D vector) into the p-th power.\n",
    "    \n",
    "    Parameters\n",
    "    ----------\n",
    "    X : array_like\n",
    "        A data vector of size m, where m is the number of examples.\n",
    "    \n",
    "    p : int\n",
    "        The polynomial power to map the features. \n",
    "    \n",
    "    Returns \n",
    "    -------\n",
    "    X_poly : array_like\n",
    "        A matrix of shape (m x p) where p is the polynomial \n",
    "        power and m is the number of examples. That is:\n",
    "    \n",
    "        X_poly[i, :] = [X[i], X[i]**2, X[i]**3 ...  X[i]**p]\n",
    "    \n",
    "    Instructions\n",
    "    ------------\n",
    "    Given a vector X, return a matrix X_poly where the p-th column of\n",
    "    X contains the values of X to the p-th power.\n",
    "    \"\"\"\n",
    "    # You need to return the following variables correctly.\n",
    "    X_poly = np.zeros((X.shape[0], p))\n",
    "    # ====================== YOUR CODE HERE ======================\n",
    "    if (X.ndim == 1):\n",
    "        X = X.reshape(-1,1)\n",
    "    for i in range(1,p+1):\n",
    "        X_poly[:,[i-1]] = X ** i\n",
    "    \n",
    "    \n",
    "\n",
    "    # ============================================================\n",
    "    return X_poly"
   ]
  },
  {
   "cell_type": "markdown",
   "metadata": {},
   "source": [
    "After you have completed the function `polyFeatures`, we will proceed to train polynomial regression using your linear regression cost function.\n",
    "\n",
    "Keep in mind that even though we have polynomial terms in our feature vector, we are still solving a linear regression optimization problem. The polynomial terms have simply turned into features that we can use for linear regression. We are using the same cost function and gradient that you wrote for the earlier part of this exercise.\n",
    "\n",
    "For this part of the exercise, you will be using a polynomial of degree 8. It turns out that if we run the training directly on the projected data, will not work well as the features would be badly scaled (e.g., an example with $x = 40$ will now have a feature $x_8 = 40^8 = 6.5 \\times 10^{12}$). Therefore, you will\n",
    "need to use feature normalization.\n",
    "\n",
    "Before learning the parameters $\\theta$ for the polynomial regression, you need to define `feature_normalize` and normalize the features of the training set, storing the mu, sigma parameters separately. "
   ]
  },
  {
   "cell_type": "markdown",
   "metadata": {},
   "source": [
    "### 3.2 Feature Normalization (10 pts)"
   ]
  },
  {
   "cell_type": "code",
   "execution_count": 12,
   "metadata": {},
   "outputs": [],
   "source": [
    "def feature_normalize(X):\n",
    "    \n",
    "     # ====================== YOUR CODE HERE ======================\n",
    "    X_norm = X.copy()\n",
    "    mu = np.zeros(X.shape[1])\n",
    "    sigma = np.zeros(X.shape[1])\n",
    "    for i in range(X.shape[1]):\n",
    "        mu[i] = np.mean(X[:,i])\n",
    "        sigma[i] = np.std(X[:,i])\n",
    "        X_norm[:,i] = (X_norm[:,i] - mu[i])/sigma[i]\n",
    "    \n",
    "\n",
    "    # ============================================================\n",
    "\n",
    "    return X_norm, mu, sigma"
   ]
  },
  {
   "cell_type": "markdown",
   "metadata": {},
   "source": [
    "Now you have a function that will map features to a higher dimension. The next cell will apply it to the training set, the test set, and the cross validation set. You also need to normalize all three sets."
   ]
  },
  {
   "cell_type": "code",
   "execution_count": 13,
   "metadata": {},
   "outputs": [
    {
     "name": "stdout",
     "output_type": "stream",
     "text": [
      "Normalized Training Example 1:\n"
     ]
    },
    {
     "data": {
      "text/plain": [
       "array([ 1.        , -0.3782437 , -0.78866232,  0.19032872, -0.7375913 ,\n",
       "        0.32025197, -0.6171516 ,  0.35983501, -0.53109126])"
      ]
     },
     "execution_count": 13,
     "metadata": {},
     "output_type": "execute_result"
    }
   ],
   "source": [
    "p = 8\n",
    "\n",
    "# Map X onto Polynomial Features and Normalize\n",
    "X_poly = polyFeatures(X, p)\n",
    "X_poly, mu, sigma = feature_normalize(X_poly)\n",
    "X_poly = np.concatenate([np.ones((m, 1)), X_poly], axis=1)\n",
    "\n",
    "# Map X_poly_test and normalize (using mu and sigma)\n",
    "X_poly_test = polyFeatures(Xtest, p)\n",
    "X_poly_test -= mu\n",
    "X_poly_test /= sigma\n",
    "X_poly_test = np.concatenate([np.ones((ytest.size, 1)), X_poly_test], axis=1)\n",
    "\n",
    "# Map X_poly_val and normalize (using mu and sigma)\n",
    "X_poly_val = polyFeatures(Xval, p)\n",
    "X_poly_val -= mu\n",
    "X_poly_val /= sigma\n",
    "X_poly_val = np.concatenate([np.ones((yval.size, 1)), X_poly_val], axis=1)\n",
    "\n",
    "print('Normalized Training Example 1:')\n",
    "X_poly[0, :]"
   ]
  },
  {
   "cell_type": "markdown",
   "metadata": {},
   "source": [
    "### 3.3 Learning Polynomial Regression\n",
    "\n",
    "\n",
    "\n",
    "After learning the parameters $\\theta$, you should see two plots generated for polynomial regression with $\\lambda = 0$, which should be similar to the ones here:\n",
    "\n",
    "<table>\n",
    "    <tr>\n",
    "        <td><img src=\"Figures/polynomial_regression.png\"></td>\n",
    "        <td><img src=\"Figures/polynomial_learning_curve.png\"></td>\n",
    "    </tr>\n",
    "</table>\n",
    "\n",
    "You should see that the polynomial fit is able to follow the datapoints very well, thus, obtaining a low training error. The figure on the right shows that the training error essentially stays zero for all numbers of training samples. However, the polynomial fit is very complex and even drops off at the extremes. This is an indicator that the polynomial regression model is overfitting the training data and will not generalize well.\n",
    "\n",
    "To better understand the problems with the unregularized ($\\lambda = 0$) model, you can see that the learning curve  shows the same effect where the training error is low, but the cross validation error is high. There is a gap between the training and cross validation errors, indicating a high variance problem."
   ]
  },
  {
   "cell_type": "code",
   "execution_count": 14,
   "metadata": {},
   "outputs": [],
   "source": [
    "def plot_fit(min_x, max_x, mu, sigma, theta, p):\n",
    "    x = np.arange(min_x - 15, max_x + 25, 0.05)\n",
    "\n",
    "    X_poly = polyFeatures(x, p)\n",
    "    X_poly -= mu\n",
    "    X_poly /= sigma\n",
    "\n",
    "    X_poly = np.c_[np.ones(x.size), X_poly]\n",
    "\n",
    "    pyplot.plot(x, np.dot(X_poly, theta))"
   ]
  },
  {
   "cell_type": "code",
   "execution_count": 15,
   "metadata": {},
   "outputs": [
    {
     "name": "stdout",
     "output_type": "stream",
     "text": [
      "Polynomial Regression (lambda = 0.000000)\n",
      "\n",
      "# Training Examples\tTrain Error\tCross Validation Error\n",
      "  \t1\t\t0.000000\t99.523441\n",
      "  \t2\t\t0.000000\t99.488128\n",
      "  \t3\t\t0.000000\t58.435612\n",
      "  \t4\t\t0.000000\t77.026357\n",
      "  \t5\t\t0.000000\t6.593975\n",
      "  \t6\t\t0.000000\t10.346285\n",
      "  \t7\t\t0.000001\t27.748684\n",
      "  \t8\t\t0.003007\t25.153918\n",
      "  \t9\t\t0.011839\t19.484168\n",
      "  \t10\t\t0.042795\t19.561120\n",
      "  \t11\t\t0.039997\t20.873334\n",
      "  \t12\t\t0.052488\t12.693932\n"
     ]
    },
    {
     "data": {
      "image/png": "[encoded data removed]",
      "text/plain": [
       "<Figure size 432x288 with 1 Axes>"
      ]
     },
     "metadata": {
      "needs_background": "light"
     },
     "output_type": "display_data"
    },
    {
     "data": {
      "image/png": "[encoded data removed]",
      "text/plain": [
       "<Figure size 432x288 with 1 Axes>"
      ]
     },
     "metadata": {
      "needs_background": "light"
     },
     "output_type": "display_data"
    }
   ],
   "source": [
    "lambda_ = 0\n",
    "theta = train_linear_reg(X_poly, y,\n",
    "                             lambda_=lambda_)\n",
    "\n",
    "# Plot training data and fit\n",
    "pyplot.plot(X, y, 'ro', ms=10, mew=1.5, mec='k')\n",
    "\n",
    "plot_fit(np.min(X), np.max(X), mu, sigma, theta, p)\n",
    "\n",
    "pyplot.xlabel('Change in water level (x)')\n",
    "pyplot.ylabel('Water flowing out of the dam (y)')\n",
    "pyplot.title('Polynomial Regression Fit (lambda = %f)' % lambda_)\n",
    "pyplot.ylim([-20, 50])\n",
    "\n",
    "pyplot.figure()\n",
    "error_train, error_val = learningCurve(X_poly, y, X_poly_val, yval, lambda_)\n",
    "pyplot.plot(np.arange(1, 1+m), error_train, np.arange(1, 1+m), error_val)\n",
    "\n",
    "pyplot.title('Polynomial Regression Learning Curve (lambda = %f)' % lambda_)\n",
    "pyplot.xlabel('Number of training examples')\n",
    "pyplot.ylabel('Error')\n",
    "pyplot.axis([0, 13, 0, 100])\n",
    "pyplot.legend(['Train', 'Cross Validation'])\n",
    "\n",
    "print('Polynomial Regression (lambda = %f)\\n' % lambda_)\n",
    "print('# Training Examples\\tTrain Error\\tCross Validation Error')\n",
    "for i in range(m):\n",
    "    print('  \\t%d\\t\\t%f\\t%f' % (i+1, error_train[i], error_val[i]))"
   ]
  },
  {
   "cell_type": "markdown",
   "metadata": {},
   "source": [
    "One way to combat the overfitting (high-variance) problem is to add regularization to the model. In the next section, you will get to  try different $\\lambda$ parameters to see how regularization can lead to a better model.\n",
    "\n",
    "### 3.4 Optional (bonus) exercise: Adjusting the regularization parameter (5 pts)\n",
    "\n",
    "In this section, you will get to observe how the regularization parameter affects the bias-variance of regularized polynomial regression. You should now modify the the lambda parameter and try $\\lambda = 1, 100$. For each of these values, the script should generate a polynomial fit to the data and also a learning curve.\n",
    "\n",
    "For $\\lambda = 1$, you should see a polynomial fit that follows the data trend well and a learning curve showing that both the cross validation and training error converge to a relatively low value. This shows the $\\lambda = 1$ regularized polynomial regression model does not have the high-bias or high-variance problems. In effect, it achieves a good trade-off between bias and variance.\n",
    "\n",
    "For $\\lambda = 100$, you should see a polynomial fit that does not follow the data well. In this case, there is too much regularization and the model is unable to fit the training data."
   ]
  },
  {
   "cell_type": "markdown",
   "metadata": {},
   "source": [
    "## $\\lambda = 1$"
   ]
  },
  {
   "cell_type": "code",
   "execution_count": 16,
   "metadata": {},
   "outputs": [
    {
     "name": "stdout",
     "output_type": "stream",
     "text": [
      "Polynomial Regression (lambda = 1.000000)\n",
      "\n",
      "# Training Examples\tTrain Error\tCross Validation Error\n",
      "  \t1\t\t0.000000\t138.846777\n",
      "  \t2\t\t0.042838\t143.502514\n",
      "  \t3\t\t2.515219\t5.749646\n",
      "  \t4\t\t1.285539\t6.890108\n",
      "  \t5\t\t1.028320\t6.900649\n",
      "  \t6\t\t0.794930\t8.581250\n",
      "  \t7\t\t1.409963\t5.842262\n",
      "  \t8\t\t1.316244\t5.575867\n",
      "  \t9\t\t1.458733\t6.300294\n",
      "  \t10\t\t1.353299\t6.033552\n",
      "  \t11\t\t1.228538\t6.089721\n",
      "  \t12\t\t1.958697\t4.263336\n"
     ]
    },
    {
     "data": {
      "image/png": "[encoded data removed]",
      "text/plain": [
       "<Figure size 432x288 with 1 Axes>"
      ]
     },
     "metadata": {
      "needs_background": "light"
     },
     "output_type": "display_data"
    },
    {
     "data": {
      "image/png": "[encoded data removed]",
      "text/plain": [
       "<Figure size 432x288 with 1 Axes>"
      ]
     },
     "metadata": {
      "needs_background": "light"
     },
     "output_type": "display_data"
    }
   ],
   "source": [
    "lambda_ = 1\n",
    "theta = train_linear_reg(X_poly, y,\n",
    "                             lambda_=lambda_)\n",
    "\n",
    "# Plot training data and fit\n",
    "pyplot.plot(X, y, 'ro', ms=10, mew=1.5, mec='k')\n",
    "\n",
    "plot_fit(np.min(X), np.max(X), mu, sigma, theta, p)\n",
    "\n",
    "pyplot.xlabel('Change in water level (x)')\n",
    "pyplot.ylabel('Water flowing out of the dam (y)')\n",
    "pyplot.title('Polynomial Regression Fit (lambda = %f)' % lambda_)\n",
    "pyplot.ylim([-20, 50])\n",
    "\n",
    "pyplot.figure()\n",
    "error_train, error_val = learningCurve(X_poly, y, X_poly_val, yval, lambda_)\n",
    "pyplot.plot(np.arange(1, 1+m), error_train, np.arange(1, 1+m), error_val)\n",
    "\n",
    "pyplot.title('Polynomial Regression Learning Curve (lambda = %f)' % lambda_)\n",
    "pyplot.xlabel('Number of training examples')\n",
    "pyplot.ylabel('Error')\n",
    "pyplot.axis([0, 13, 0, 100])\n",
    "pyplot.legend(['Train', 'Cross Validation'])\n",
    "\n",
    "print('Polynomial Regression (lambda = %f)\\n' % lambda_)\n",
    "print('# Training Examples\\tTrain Error\\tCross Validation Error')\n",
    "for i in range(m):\n",
    "    print('  \\t%d\\t\\t%f\\t%f' % (i+1, error_train[i], error_val[i]))"
   ]
  },
  {
   "cell_type": "markdown",
   "metadata": {},
   "source": [
    "## $\\lambda = 100$"
   ]
  },
  {
   "cell_type": "code",
   "execution_count": 17,
   "metadata": {},
   "outputs": [
    {
     "name": "stdout",
     "output_type": "stream",
     "text": [
      "Polynomial Regression (lambda = 100.000000)\n",
      "\n",
      "# Training Examples\tTrain Error\tCross Validation Error\n",
      "  \t1\t\t0.000000\t138.846777\n",
      "  \t2\t\t0.113986\t144.124029\n",
      "  \t3\t\t105.959154\t70.036421\n",
      "  \t4\t\t119.945266\t76.910550\n",
      "  \t5\t\t100.886409\t62.513581\n",
      "  \t6\t\t95.257493\t58.094607\n",
      "  \t7\t\t81.688103\t58.149056\n",
      "  \t8\t\t74.884565\t57.213733\n",
      "  \t9\t\t69.819509\t58.029731\n",
      "  \t10\t\t62.964045\t58.171822\n",
      "  \t11\t\t57.731689\t58.833235\n",
      "  \t12\t\t56.725819\t56.287764\n"
     ]
    },
    {
     "data": {
      "image/png": "[encoded data removed]",
      "text/plain": [
       "<Figure size 432x288 with 1 Axes>"
      ]
     },
     "metadata": {
      "needs_background": "light"
     },
     "output_type": "display_data"
    },
    {
     "data": {
      "image/png": "[encoded data removed]",
      "text/plain": [
       "<Figure size 432x288 with 1 Axes>"
      ]
     },
     "metadata": {
      "needs_background": "light"
     },
     "output_type": "display_data"
    }
   ],
   "source": [
    "lambda_ = 100\n",
    "theta = train_linear_reg(X_poly, y,\n",
    "                             lambda_=lambda_)\n",
    "\n",
    "# Plot training data and fit\n",
    "pyplot.plot(X, y, 'ro', ms=10, mew=1.5, mec='k')\n",
    "\n",
    "plot_fit(np.min(X), np.max(X), mu, sigma, theta, p)\n",
    "\n",
    "pyplot.xlabel('Change in water level (x)')\n",
    "pyplot.ylabel('Water flowing out of the dam (y)')\n",
    "pyplot.title('Polynomial Regression Fit (lambda = %f)' % lambda_)\n",
    "pyplot.ylim([-20, 50])\n",
    "\n",
    "pyplot.figure()\n",
    "error_train, error_val = learningCurve(X_poly, y, X_poly_val, yval, lambda_)\n",
    "pyplot.plot(np.arange(1, 1+m), error_train, np.arange(1, 1+m), error_val)\n",
    "\n",
    "pyplot.title('Polynomial Regression Learning Curve (lambda = %f)' % lambda_)\n",
    "pyplot.xlabel('Number of training examples')\n",
    "pyplot.ylabel('Error')\n",
    "pyplot.axis([0, 13, 0, 100])\n",
    "pyplot.legend(['Train', 'Cross Validation'])\n",
    "\n",
    "print('Polynomial Regression (lambda = %f)\\n' % lambda_)\n",
    "print('# Training Examples\\tTrain Error\\tCross Validation Error')\n",
    "for i in range(m):\n",
    "    print('  \\t%d\\t\\t%f\\t%f' % (i+1, error_train[i], error_val[i]))"
   ]
  },
  {
   "cell_type": "markdown",
   "metadata": {},
   "source": [
    "<a id=\"section5\"></a>\n",
    "### 3.5 Selecting $\\lambda$ using a cross validation set (10 pts)\n",
    "\n",
    "From the previous parts, you observed that the value of $\\lambda$ can significantly affect the results of regularized polynomial regression on the training and cross validation set. In particular, a model without regularization ($\\lambda = 0$) fits the training set well, but does not generalize. Conversely, a model with too much regularization ($\\lambda = 100$) does not fit the training set and testing set well. A good choice of $\\lambda$ (e.g., $\\lambda = 1$) can provide a good fit to the data.\n",
    "\n",
    "In this section, you will implement an automated method to select the $\\lambda$ parameter. Concretely, you will use a cross validation set to evaluate how good each $\\lambda$ value is. After selecting the best $\\lambda$ value using the cross validation set, we can then evaluate the model on the test set to estimate\n",
    "how well the model will perform on actual unseen data. \n",
    "\n",
    "Your task is to complete the code in the function `validationCurve`. Specifically, you should should use the `train_linear_reg` function to train the model using different values of $\\lambda$ and compute the training error and cross validation error. You should try $\\lambda$ in the following range: {0, 0.001, 0.003, 0.01, 0.03, 0.1, 0.3, 1, 3, 10}.\n",
    "<a id=\"validationCurve\"></a>"
   ]
  },
  {
   "cell_type": "code",
   "execution_count": 18,
   "metadata": {},
   "outputs": [],
   "source": [
    "def validationCurve(X, y, Xval, yval):\n",
    "    \"\"\"\n",
    "    Generate the train and validation errors needed to plot a validation\n",
    "    curve that we can use to select lambda_.\n",
    "    \n",
    "    Parameters\n",
    "    ----------\n",
    "    X : array_like\n",
    "        The training dataset. Matrix with shape (m x n) where m is the \n",
    "        total number of training examples, and n is the number of features \n",
    "        including any polynomial features.\n",
    "    \n",
    "    y : array_like\n",
    "        The functions values at each training datapoint. A vector of\n",
    "        shape (m, ).\n",
    "    \n",
    "    Xval : array_like\n",
    "        The validation dataset. Matrix with shape (m_val x n) where m is the \n",
    "        total number of validation examples, and n is the number of features \n",
    "        including any polynomial features.\n",
    "    \n",
    "    yval : array_like\n",
    "        The functions values at each validation datapoint. A vector of\n",
    "        shape (m_val, ).\n",
    "    \n",
    "    Returns\n",
    "    -------\n",
    "    lambda_vec : list\n",
    "        The values of the regularization parameters which were used in \n",
    "        cross validation.\n",
    "    \n",
    "    error_train : list\n",
    "        The training error computed at each value for the regularization\n",
    "        parameter.\n",
    "    \n",
    "    error_val : list\n",
    "        The validation error computed at each value for the regularization\n",
    "        parameter.\n",
    "    \n",
    "    Instructions\n",
    "    ------------\n",
    "    Fill in this function to return training errors in `error_train` and\n",
    "    the validation errors in `error_val`. The vector `lambda_vec` contains\n",
    "    the different lambda parameters to use for each calculation of the\n",
    "    errors, i.e, `error_train[i]`, and `error_val[i]` should give you the\n",
    "    errors obtained after training with `lambda_ = lambda_vec[i]`.\n",
    "\n",
    "    Note\n",
    "    ----\n",
    "    You can loop over lambda_vec with the following:\n",
    "    \n",
    "          for i in range(len(lambda_vec))\n",
    "              lambda = lambda_vec[i]\n",
    "              # Compute train / val errors when training linear \n",
    "              # regression with regularization parameter lambda_\n",
    "              # You should store the result in error_train[i]\n",
    "              # and error_val[i]\n",
    "              ....\n",
    "    \"\"\"\n",
    "    # Selected values of lambda (you should not change this)\n",
    "    lambda_vec = np.array([0., 0.001, 0.003, 0.01, 0.03, 0.1, 0.3, 1, 3, 10])\n",
    "\n",
    "    # You need to return these variables correctly.\n",
    "    error_train = np.zeros(lambda_vec.size)\n",
    "    error_val = np.zeros(lambda_vec.size)\n",
    "\n",
    "    # ====================== YOUR CODE HERE ======================\n",
    "    for i in range(len(lambda_vec)):\n",
    "        lambda_ = lambda_vec[i]\n",
    "        theta = train_linear_reg(X,y,lambda_)\n",
    "        error_train[i] = linearRegCostFunction(theta, X, y, lambda_ = 0)[0]\n",
    "        error_val[i] = linearRegCostFunction(theta, Xval, yval, lambda_ = 0)[0]\n",
    "    \n",
    "    \n",
    "    \n",
    "    # ============================================================\n",
    "    return lambda_vec, error_train, error_val"
   ]
  },
  {
   "cell_type": "markdown",
   "metadata": {},
   "source": [
    "After you have completed the code, the next cell will run your function and plot a cross validation curve of error v.s. $\\lambda$ that allows you select which $\\lambda$ parameter to use."
   ]
  },
  {
   "cell_type": "code",
   "execution_count": 19,
   "metadata": {},
   "outputs": [
    {
     "name": "stdout",
     "output_type": "stream",
     "text": [
      "lambda\t\tTrain Error\tValidation Error\n",
      " 0.000000\t0.052488\t12.693932\n",
      " 0.001000\t0.108438\t9.707230\n",
      " 0.003000\t0.167887\t16.305133\n",
      " 0.010000\t0.217976\t17.162206\n",
      " 0.030000\t0.275151\t13.216052\n",
      " 0.100000\t0.438698\t7.926297\n",
      " 0.300000\t0.868167\t4.760811\n",
      " 1.000000\t1.958697\t4.263336\n",
      " 3.000000\t4.525100\t3.832189\n",
      " 10.000000\t14.825788\t8.889702\n"
     ]
    },
    {
     "data": {
      "image/png": "[encoded data removed]",
      "text/plain": [
       "<Figure size 432x288 with 1 Axes>"
      ]
     },
     "metadata": {
      "needs_background": "light"
     },
     "output_type": "display_data"
    }
   ],
   "source": [
    "lambda_vec, error_train, error_val = validationCurve(X_poly, y, X_poly_val, yval)\n",
    "\n",
    "pyplot.plot(lambda_vec, error_train, '-o', lambda_vec, error_val, '-o', lw=2)\n",
    "pyplot.legend(['Train', 'Cross Validation'])\n",
    "pyplot.xlabel('lambda')\n",
    "pyplot.ylabel('Error')\n",
    "\n",
    "print('lambda\\t\\tTrain Error\\tValidation Error')\n",
    "for i in range(len(lambda_vec)):\n",
    "    print(' %f\\t%f\\t%f' % (lambda_vec[i], error_train[i], error_val[i]))"
   ]
  },
  {
   "cell_type": "markdown",
   "metadata": {},
   "source": [
    "### 3.6  Optional (bonus): Computing test set error (5 pts)\n",
    "\n",
    "In the previous part, you implemented code to compute the cross validation error for various values of the regularization parameter $\\lambda$. However, to get a better indication of the model’s performance in the real world, it is important to evaluate the “final” model on a test set that was not used in any part of training (that is, it was neither used to select the $\\lambda$ parameters, nor to learn the model parameters $\\theta$). For this optional exercise, you should compute the test error using the best value of $\\lambda$ you found. "
   ]
  },
  {
   "cell_type": "code",
   "execution_count": 20,
   "metadata": {},
   "outputs": [],
   "source": [
    "best_lamda = 3"
   ]
  },
  {
   "cell_type": "code",
   "execution_count": 21,
   "metadata": {},
   "outputs": [],
   "source": [
    "theta_lambda_3 = train_linear_reg(X_poly, y, best_lamda)"
   ]
  },
  {
   "cell_type": "code",
   "execution_count": 22,
   "metadata": {},
   "outputs": [],
   "source": [
    "error_on_testing_data = linearRegCostFunction(theta_lambda_3, X_poly_test, ytest, 0)[0]"
   ]
  },
  {
   "cell_type": "code",
   "execution_count": 23,
   "metadata": {},
   "outputs": [
    {
     "name": "stdout",
     "output_type": "stream",
     "text": [
      "Test error for the best 𝜆(3) is: 3.5720161488847797\n"
     ]
    }
   ],
   "source": [
    "print('Test error for the best 𝜆(3) is:',error_on_testing_data)"
   ]
  },
  {
   "cell_type": "markdown",
   "metadata": {},
   "source": [
    "### 3.7 Optional (bonus): Plotting learning curves with randomly selected examples (10 pts)\n",
    "\n",
    "In practice, especially for small training sets, when you plot learning curves to debug your algorithms, it is often helpful to average across multiple sets of randomly selected examples to determine the training error and cross validation error.\n",
    "\n",
    "Concretely, to determine the training error and cross validation error for $i$ examples, you should first randomly select $i$ examples from the training set and $i$ examples from the cross validation set. You will then learn the parameters $\\theta$ using the randomly chosen training set and evaluate the parameters $\\theta$ on the randomly chosen training set and cross validation set. The above steps should then be repeated multiple times (say 50) and the averaged error should be used to determine the training error and cross validation error for $i$ examples.\n",
    "\n",
    "For this optional question, you should implement the above strategy for computing the learning curves. For reference, the figure below  shows the learning curve we obtained for polynomial regression with $\\lambda = 0.01$. Your figure may differ slightly due to the random selection of examples.\n",
    "\n",
    "![](Figures/learning_curve_random.png)"
   ]
  },
  {
   "cell_type": "code",
   "execution_count": 24,
   "metadata": {},
   "outputs": [],
   "source": [
    "import random"
   ]
  },
  {
   "cell_type": "code",
   "execution_count": 25,
   "metadata": {},
   "outputs": [],
   "source": [
    "def learningCurveOnRandomExamples(X, y, Xval, yval, lambda_=0):\n",
    "    \"\"\"\n",
    "    Generates the train and cross validation set errors, based on random examples needed to plot a learning curve\n",
    "    returns the train and cross validation set errors for a learning curve. \n",
    "    \n",
    "    Parameters\n",
    "    ----------\n",
    "    X : array_like\n",
    "        The training dataset. Matrix with shape (m x n + 1) where m is the \n",
    "        total number of examples, and n is the number of features \n",
    "        before adding the bias term.\n",
    "    \n",
    "    y : array_like\n",
    "        The functions values at each training datapoint. A vector of\n",
    "        shape (m, ).\n",
    "    \n",
    "    Xval : array_like\n",
    "        The validation dataset. Matrix with shape (m_val x n + 1) where m is the \n",
    "        total number of examples, and n is the number of features \n",
    "        before adding the bias term.\n",
    "    \n",
    "    yval : array_like\n",
    "        The functions values at each validation datapoint. A vector of\n",
    "        shape (m_val, ).\n",
    "    \n",
    "    lambda_ : float, optional\n",
    "        The regularization parameter.\n",
    "    \n",
    "    Returns\n",
    "    -------\n",
    "    error_train : array_like\n",
    "        A vector of shape m. error_train[i] contains the training error for\n",
    "        i examples.\n",
    "    error_val : array_like\n",
    "        A vecotr of shape m. error_val[i] contains the validation error for\n",
    "        i training examples.\n",
    "    \n",
    "    \"\"\"\n",
    "    # Number of training examples\n",
    "    m = y.size\n",
    "\n",
    "    # You need to return these values correctly\n",
    "    error_train = np.zeros(m)\n",
    "    error_val   = np.zeros(m)\n",
    "\n",
    "    # ====================== YOUR CODE HERE ======================\n",
    "    nOfErrorsForStep = 50\n",
    "    for i in range(1,m+1):\n",
    "        train_error = 0\n",
    "        test_error = 0\n",
    "        for j in range(nOfErrorsForStep):\n",
    "            tmp_X_train = np.array([])\n",
    "            tmp_X_test = np.array([])\n",
    "            tmp_y_train = np.array([])\n",
    "            tmp_y_test = np.array([])\n",
    "            \n",
    "            randomExamples_train = random.choices(range(0, m), k = i)\n",
    "            randomExamples_test = random.choices(range(0, m), k = i)\n",
    "            \n",
    "            tmp_X_train = np.array([X[i] for i in randomExamples_train])\n",
    "            tmp_X_test = np.array([Xval[i] for i in randomExamples_test])\n",
    "            tmp_y_train = np.array([y[i] for i in randomExamples_train])\n",
    "            tmp_y_test = np.array([yval[i] for i in randomExamples_test])\n",
    "        \n",
    "            theta = train_linear_reg(tmp_X_train,tmp_y_train,lambda_)\n",
    "            train_error += linearRegCostFunction(theta,tmp_X_train,tmp_y_train,lambda_=0)[0]\n",
    "            test_error += linearRegCostFunction(theta,tmp_X_test,tmp_y_test,lambda_=0)[0]\n",
    "            \n",
    "                \n",
    "        \n",
    "        train_error = train_error/nOfErrorsForStep\n",
    "        test_error = test_error/nOfErrorsForStep\n",
    "        error_train[i-1] = train_error\n",
    "        error_val[i-1] = test_error\n",
    "\n",
    "    \n",
    "    \n",
    "    \n",
    "    \n",
    "\n",
    "\n",
    "        \n",
    "    # =============================================================\n",
    "    return error_train, error_val"
   ]
  },
  {
   "cell_type": "code",
   "execution_count": 26,
   "metadata": {},
   "outputs": [
    {
     "name": "stdout",
     "output_type": "stream",
     "text": [
      "# Training Examples\tTrain Error\tCross Validation Error\n",
      "  \t1\t\t0.000000\t141.009810\n",
      "  \t2\t\t0.006117\t83.228307\n",
      "  \t3\t\t0.016155\t48.904001\n",
      "  \t4\t\t0.016937\t22.070568\n",
      "  \t5\t\t0.022455\t18.494410\n",
      "  \t6\t\t0.038581\t21.748203\n",
      "  \t7\t\t0.052870\t13.993391\n",
      "  \t8\t\t0.050397\t17.744489\n",
      "  \t9\t\t0.066731\t15.543953\n",
      "  \t10\t\t0.077312\t16.148034\n",
      "  \t11\t\t0.080153\t13.438543\n",
      "  \t12\t\t0.089154\t18.381466\n"
     ]
    },
    {
     "data": {
      "image/png": "[encoded data removed]",
      "text/plain": [
       "<Figure size 432x288 with 1 Axes>"
      ]
     },
     "metadata": {
      "needs_background": "light"
     },
     "output_type": "display_data"
    }
   ],
   "source": [
    "error_train, error_val = learningCurveOnRandomExamples(X_poly, y, X_poly_val, yval, lambda_=0.01)\n",
    "m= len(y)\n",
    "pyplot.plot(np.arange(1, m+1), error_train, np.arange(1, m+1), error_val, lw=2)\n",
    "pyplot.title('Learning curve for linear regression')\n",
    "pyplot.legend(['Train', 'Cross Validation'])\n",
    "pyplot.xlabel('Number of training examples')\n",
    "pyplot.ylabel('Error')\n",
    "pyplot.axis([0, 13, 0, 150])\n",
    "\n",
    "print('# Training Examples\\tTrain Error\\tCross Validation Error')\n",
    "for i in range(m):\n",
    "    print('  \\t%d\\t\\t%f\\t%f' % (i+1, error_train[i], error_val[i]))"
   ]
  },
  {
   "cell_type": "markdown",
   "metadata": {
    "collapsed": true
   },
   "source": [
    "## 4 Scikit-learn (40 pts)\n",
    "\n",
    "In this part, you need to use scikit-learn (pipeline, GridSearchCV, etc.) to replicate section 3 (add polynomial features, normalize using StandardScaler, and run ridge regression) and pick the best ridge regressor by choosing the best $\\lambda$. "
   ]
  },
  {
   "cell_type": "code",
   "execution_count": 27,
   "metadata": {},
   "outputs": [],
   "source": [
    "import pandas as pd\n",
    "from sklearn.pipeline import Pipeline\n",
    "from sklearn.preprocessing import StandardScaler\n",
    "from sklearn.model_selection import GridSearchCV\n",
    "from sklearn.preprocessing import PolynomialFeatures\n",
    "from sklearn.linear_model import Ridge\n",
    "pd.set_option('display.max_columns', None)\n",
    "pd.set_option(\"display.max_rows\", None)"
   ]
  },
  {
   "cell_type": "markdown",
   "metadata": {},
   "source": [
    "I desided to combine X and Xval and y and yval, since the GridSearchCV use cross validation. In this context we don't need to manually devide data to training and validation data. Also more data is always benefitial."
   ]
  },
  {
   "cell_type": "code",
   "execution_count": 28,
   "metadata": {},
   "outputs": [],
   "source": [
    "myX = np.concatenate((X,Xval))"
   ]
  },
  {
   "cell_type": "code",
   "execution_count": 29,
   "metadata": {},
   "outputs": [
    {
     "data": {
      "text/plain": [
       "array([[-15.93675813],\n",
       "       [-29.15297922],\n",
       "       [ 36.18954863],\n",
       "       [ 37.49218733],\n",
       "       [-48.05882945],\n",
       "       [ -8.94145794],\n",
       "       [ 15.30779289],\n",
       "       [-34.70626581],\n",
       "       [  1.38915437],\n",
       "       [-44.38375985],\n",
       "       [  7.01350208],\n",
       "       [ 22.76274892],\n",
       "       [-16.74653578],\n",
       "       [-14.57747075],\n",
       "       [ 34.51575866],\n",
       "       [-47.01007574],\n",
       "       [ 36.97511905],\n",
       "       [-40.68611002],\n",
       "       [ -4.47201098],\n",
       "       [ 26.53363489],\n",
       "       [-42.7976831 ],\n",
       "       [ 25.37409938],\n",
       "       [-31.10955398],\n",
       "       [ 27.31176864],\n",
       "       [ -3.26386201],\n",
       "       [ -1.81827649],\n",
       "       [-40.7196624 ],\n",
       "       [-50.01324365],\n",
       "       [-17.41177155],\n",
       "       [  3.5881937 ],\n",
       "       [  7.08548026],\n",
       "       [ 46.28236902],\n",
       "       [ 14.61228909]])"
      ]
     },
     "execution_count": 29,
     "metadata": {},
     "output_type": "execute_result"
    }
   ],
   "source": [
    "myX"
   ]
  },
  {
   "cell_type": "code",
   "execution_count": 30,
   "metadata": {},
   "outputs": [],
   "source": [
    "myY = np.concatenate((y,yval))"
   ]
  },
  {
   "cell_type": "code",
   "execution_count": 31,
   "metadata": {},
   "outputs": [],
   "source": [
    "myY = myY.reshape(-1,1)"
   ]
  },
  {
   "cell_type": "code",
   "execution_count": 32,
   "metadata": {},
   "outputs": [
    {
     "data": {
      "text/plain": [
       "array([[ 2.13431051e+00],\n",
       "       [ 1.17325668e+00],\n",
       "       [ 3.43591092e+01],\n",
       "       [ 3.68379552e+01],\n",
       "       [ 2.80896507e+00],\n",
       "       [ 2.12107248e+00],\n",
       "       [ 1.47102683e+01],\n",
       "       [ 2.61418439e+00],\n",
       "       [ 3.74017167e+00],\n",
       "       [ 3.73169131e+00],\n",
       "       [ 7.62765885e+00],\n",
       "       [ 2.27524283e+01],\n",
       "       [ 4.17020201e+00],\n",
       "       [ 4.06726280e+00],\n",
       "       [ 3.18730676e+01],\n",
       "       [ 1.06236562e+01],\n",
       "       [ 3.18360213e+01],\n",
       "       [ 4.95936972e+00],\n",
       "       [ 4.45159880e+00],\n",
       "       [ 2.22763185e+01],\n",
       "       [-4.38738274e-05],\n",
       "       [ 2.05038016e+01],\n",
       "       [ 3.85834476e+00],\n",
       "       [ 1.93650529e+01],\n",
       "       [ 4.88376281e+00],\n",
       "       [ 1.10971588e+01],\n",
       "       [ 7.46170827e+00],\n",
       "       [ 1.47693464e+00],\n",
       "       [ 2.71916388e+00],\n",
       "       [ 1.09269007e+01],\n",
       "       [ 8.34871235e+00],\n",
       "       [ 5.27819280e+01],\n",
       "       [ 1.33573396e+01]])"
      ]
     },
     "execution_count": 32,
     "metadata": {},
     "output_type": "execute_result"
    }
   ],
   "source": [
    "myY"
   ]
  },
  {
   "cell_type": "code",
   "execution_count": 33,
   "metadata": {},
   "outputs": [],
   "source": [
    "clf = Pipeline(steps=[('scaler', StandardScaler()),\n",
    "                      ('poly', PolynomialFeatures(8)),\n",
    "                      ('classifier', Ridge())])"
   ]
  },
  {
   "cell_type": "code",
   "execution_count": 34,
   "metadata": {},
   "outputs": [
    {
     "data": {
      "text/plain": [
       "GridSearchCV(cv=None, error_score=nan,\n",
       "             estimator=Pipeline(memory=None,\n",
       "                                steps=[('scaler',\n",
       "                                        StandardScaler(copy=True,\n",
       "                                                       with_mean=True,\n",
       "                                                       with_std=True)),\n",
       "                                       ('poly',\n",
       "                                        PolynomialFeatures(degree=8,\n",
       "                                                           include_bias=True,\n",
       "                                                           interaction_only=False,\n",
       "                                                           order='C')),\n",
       "                                       ('classifier',\n",
       "                                        Ridge(alpha=1.0, copy_X=True,\n",
       "                                              fit_intercept=True, max_iter=None,\n",
       "                                              normalize=False,\n",
       "                                              random_state=None, solver='auto',\n",
       "                                              tol=0.001))],\n",
       "                                verbose=False),\n",
       "             iid='deprecated', n_jobs=-1,\n",
       "             param_grid={'classifier__alpha': [0.1, 0.15, 0.2, 0.25, 0.3, 0.4,\n",
       "                                               0.5, 0.7, 1.0, 3, 7, 10]},\n",
       "             pre_dispatch='2*n_jobs', refit=True, return_train_score=True,\n",
       "             scoring='neg_mean_squared_error', verbose=0)"
      ]
     },
     "execution_count": 34,
     "metadata": {},
     "output_type": "execute_result"
    }
   ],
   "source": [
    "param_grid = {\n",
    "    'classifier__alpha': [ 0.1,0.15,0.2,0.25,0.3,0.4,0.5,0.7, 1.0,3,7, 10]\n",
    "}\n",
    "\n",
    "grid_search = GridSearchCV(clf, param_grid, n_jobs = -1, return_train_score = True, scoring='neg_mean_squared_error')\n",
    "grid_search.fit(myX, myY)"
   ]
  },
  {
   "cell_type": "code",
   "execution_count": 35,
   "metadata": {},
   "outputs": [
    {
     "data": {
      "text/html": [
       "<div>\n",
       "<style scoped>\n",
       "    .dataframe tbody tr th:only-of-type {\n",
       "        vertical-align: middle;\n",
       "    }\n",
       "\n",
       "    .dataframe tbody tr th {\n",
       "        vertical-align: top;\n",
       "    }\n",
       "\n",
       "    .dataframe thead th {\n",
       "        text-align: right;\n",
       "    }\n",
       "</style>\n",
       "<table border=\"1\" class=\"dataframe\">\n",
       "  <thead>\n",
       "    <tr style=\"text-align: right;\">\n",
       "      <th></th>\n",
       "      <th>mean_fit_time</th>\n",
       "      <th>std_fit_time</th>\n",
       "      <th>mean_score_time</th>\n",
       "      <th>std_score_time</th>\n",
       "      <th>param_classifier__alpha</th>\n",
       "      <th>params</th>\n",
       "      <th>split0_test_score</th>\n",
       "      <th>split1_test_score</th>\n",
       "      <th>split2_test_score</th>\n",
       "      <th>split3_test_score</th>\n",
       "      <th>split4_test_score</th>\n",
       "      <th>mean_test_score</th>\n",
       "      <th>std_test_score</th>\n",
       "      <th>rank_test_score</th>\n",
       "      <th>split0_train_score</th>\n",
       "      <th>split1_train_score</th>\n",
       "      <th>split2_train_score</th>\n",
       "      <th>split3_train_score</th>\n",
       "      <th>split4_train_score</th>\n",
       "      <th>mean_train_score</th>\n",
       "      <th>std_train_score</th>\n",
       "    </tr>\n",
       "  </thead>\n",
       "  <tbody>\n",
       "    <tr>\n",
       "      <th>0</th>\n",
       "      <td>0.005728</td>\n",
       "      <td>0.000383</td>\n",
       "      <td>0.000861</td>\n",
       "      <td>0.000044</td>\n",
       "      <td>0.1</td>\n",
       "      <td>{'classifier__alpha': 0.1}</td>\n",
       "      <td>-4.403556</td>\n",
       "      <td>-7.597459</td>\n",
       "      <td>-11.944245</td>\n",
       "      <td>-12.082358</td>\n",
       "      <td>-21.778925</td>\n",
       "      <td>-11.561309</td>\n",
       "      <td>5.861115</td>\n",
       "      <td>7</td>\n",
       "      <td>-5.996347</td>\n",
       "      <td>-5.075515</td>\n",
       "      <td>-3.870806</td>\n",
       "      <td>-4.253119</td>\n",
       "      <td>-5.907369</td>\n",
       "      <td>-5.020631</td>\n",
       "      <td>0.854694</td>\n",
       "    </tr>\n",
       "    <tr>\n",
       "      <th>1</th>\n",
       "      <td>0.005090</td>\n",
       "      <td>0.001576</td>\n",
       "      <td>0.000719</td>\n",
       "      <td>0.000139</td>\n",
       "      <td>0.15</td>\n",
       "      <td>{'classifier__alpha': 0.15}</td>\n",
       "      <td>-4.343279</td>\n",
       "      <td>-7.499141</td>\n",
       "      <td>-11.978661</td>\n",
       "      <td>-11.454357</td>\n",
       "      <td>-8.781220</td>\n",
       "      <td>-8.811331</td>\n",
       "      <td>2.782222</td>\n",
       "      <td>3</td>\n",
       "      <td>-6.028275</td>\n",
       "      <td>-5.114506</td>\n",
       "      <td>-3.885987</td>\n",
       "      <td>-4.326015</td>\n",
       "      <td>-5.949276</td>\n",
       "      <td>-5.060812</td>\n",
       "      <td>0.854210</td>\n",
       "    </tr>\n",
       "    <tr>\n",
       "      <th>2</th>\n",
       "      <td>0.003818</td>\n",
       "      <td>0.000085</td>\n",
       "      <td>0.000561</td>\n",
       "      <td>0.000021</td>\n",
       "      <td>0.2</td>\n",
       "      <td>{'classifier__alpha': 0.2}</td>\n",
       "      <td>-4.321758</td>\n",
       "      <td>-7.456304</td>\n",
       "      <td>-12.013473</td>\n",
       "      <td>-10.986083</td>\n",
       "      <td>-5.621577</td>\n",
       "      <td>-8.079839</td>\n",
       "      <td>2.982440</td>\n",
       "      <td>1</td>\n",
       "      <td>-6.058777</td>\n",
       "      <td>-5.153376</td>\n",
       "      <td>-3.902580</td>\n",
       "      <td>-4.388873</td>\n",
       "      <td>-5.990936</td>\n",
       "      <td>-5.098908</td>\n",
       "      <td>0.855030</td>\n",
       "    </tr>\n",
       "    <tr>\n",
       "      <th>3</th>\n",
       "      <td>0.002098</td>\n",
       "      <td>0.000892</td>\n",
       "      <td>0.000646</td>\n",
       "      <td>0.000036</td>\n",
       "      <td>0.25</td>\n",
       "      <td>{'classifier__alpha': 0.25}</td>\n",
       "      <td>-4.323506</td>\n",
       "      <td>-7.444175</td>\n",
       "      <td>-12.049632</td>\n",
       "      <td>-10.610753</td>\n",
       "      <td>-7.283100</td>\n",
       "      <td>-8.342233</td>\n",
       "      <td>2.719170</td>\n",
       "      <td>2</td>\n",
       "      <td>-6.089928</td>\n",
       "      <td>-5.193897</td>\n",
       "      <td>-3.921048</td>\n",
       "      <td>-4.448591</td>\n",
       "      <td>-6.031556</td>\n",
       "      <td>-5.137004</td>\n",
       "      <td>0.856036</td>\n",
       "    </tr>\n",
       "    <tr>\n",
       "      <th>4</th>\n",
       "      <td>0.001640</td>\n",
       "      <td>0.000030</td>\n",
       "      <td>0.000691</td>\n",
       "      <td>0.000018</td>\n",
       "      <td>0.3</td>\n",
       "      <td>{'classifier__alpha': 0.3}</td>\n",
       "      <td>-4.341076</td>\n",
       "      <td>-7.451913</td>\n",
       "      <td>-12.087054</td>\n",
       "      <td>-10.297864</td>\n",
       "      <td>-11.361561</td>\n",
       "      <td>-9.107894</td>\n",
       "      <td>2.857806</td>\n",
       "      <td>4</td>\n",
       "      <td>-6.122382</td>\n",
       "      <td>-5.236349</td>\n",
       "      <td>-3.941458</td>\n",
       "      <td>-4.507621</td>\n",
       "      <td>-6.070708</td>\n",
       "      <td>-5.175704</td>\n",
       "      <td>0.856809</td>\n",
       "    </tr>\n",
       "    <tr>\n",
       "      <th>5</th>\n",
       "      <td>0.001666</td>\n",
       "      <td>0.000080</td>\n",
       "      <td>0.000697</td>\n",
       "      <td>0.000041</td>\n",
       "      <td>0.4</td>\n",
       "      <td>{'classifier__alpha': 0.4}</td>\n",
       "      <td>-4.408235</td>\n",
       "      <td>-7.505754</td>\n",
       "      <td>-12.164722</td>\n",
       "      <td>-9.798340</td>\n",
       "      <td>-22.250820</td>\n",
       "      <td>-11.225574</td>\n",
       "      <td>6.079280</td>\n",
       "      <td>6</td>\n",
       "      <td>-6.191537</td>\n",
       "      <td>-5.326198</td>\n",
       "      <td>-3.987753</td>\n",
       "      <td>-4.626617</td>\n",
       "      <td>-6.144127</td>\n",
       "      <td>-5.255246</td>\n",
       "      <td>0.857146</td>\n",
       "    </tr>\n",
       "    <tr>\n",
       "      <th>6</th>\n",
       "      <td>0.001744</td>\n",
       "      <td>0.000066</td>\n",
       "      <td>0.000673</td>\n",
       "      <td>0.000044</td>\n",
       "      <td>0.5</td>\n",
       "      <td>{'classifier__alpha': 0.5}</td>\n",
       "      <td>-4.503735</td>\n",
       "      <td>-7.591934</td>\n",
       "      <td>-12.244725</td>\n",
       "      <td>-9.412720</td>\n",
       "      <td>-33.478769</td>\n",
       "      <td>-13.446377</td>\n",
       "      <td>10.327211</td>\n",
       "      <td>8</td>\n",
       "      <td>-6.265521</td>\n",
       "      <td>-5.420538</td>\n",
       "      <td>-4.040402</td>\n",
       "      <td>-4.747649</td>\n",
       "      <td>-6.211342</td>\n",
       "      <td>-5.337090</td>\n",
       "      <td>0.855816</td>\n",
       "    </tr>\n",
       "    <tr>\n",
       "      <th>7</th>\n",
       "      <td>0.001952</td>\n",
       "      <td>0.000562</td>\n",
       "      <td>0.000684</td>\n",
       "      <td>0.000038</td>\n",
       "      <td>0.7</td>\n",
       "      <td>{'classifier__alpha': 0.7}</td>\n",
       "      <td>-4.742872</td>\n",
       "      <td>-7.815889</td>\n",
       "      <td>-12.406935</td>\n",
       "      <td>-8.851626</td>\n",
       "      <td>-52.004313</td>\n",
       "      <td>-17.164327</td>\n",
       "      <td>17.591158</td>\n",
       "      <td>10</td>\n",
       "      <td>-6.422455</td>\n",
       "      <td>-5.614331</td>\n",
       "      <td>-4.160112</td>\n",
       "      <td>-4.992605</td>\n",
       "      <td>-6.330810</td>\n",
       "      <td>-5.504063</td>\n",
       "      <td>0.849342</td>\n",
       "    </tr>\n",
       "    <tr>\n",
       "      <th>8</th>\n",
       "      <td>0.001639</td>\n",
       "      <td>0.000054</td>\n",
       "      <td>0.000669</td>\n",
       "      <td>0.000028</td>\n",
       "      <td>1</td>\n",
       "      <td>{'classifier__alpha': 1.0}</td>\n",
       "      <td>-5.154276</td>\n",
       "      <td>-8.205029</td>\n",
       "      <td>-12.645365</td>\n",
       "      <td>-8.310657</td>\n",
       "      <td>-68.556089</td>\n",
       "      <td>-20.574283</td>\n",
       "      <td>24.109305</td>\n",
       "      <td>12</td>\n",
       "      <td>-6.664427</td>\n",
       "      <td>-5.900131</td>\n",
       "      <td>-4.361827</td>\n",
       "      <td>-5.353744</td>\n",
       "      <td>-6.485324</td>\n",
       "      <td>-5.753091</td>\n",
       "      <td>0.834675</td>\n",
       "    </tr>\n",
       "    <tr>\n",
       "      <th>9</th>\n",
       "      <td>0.001747</td>\n",
       "      <td>0.000122</td>\n",
       "      <td>0.000994</td>\n",
       "      <td>0.000574</td>\n",
       "      <td>3</td>\n",
       "      <td>{'classifier__alpha': 3}</td>\n",
       "      <td>-7.618352</td>\n",
       "      <td>-10.636332</td>\n",
       "      <td>-13.810602</td>\n",
       "      <td>-7.229570</td>\n",
       "      <td>-53.066903</td>\n",
       "      <td>-18.472352</td>\n",
       "      <td>17.459253</td>\n",
       "      <td>11</td>\n",
       "      <td>-7.971819</td>\n",
       "      <td>-7.394546</td>\n",
       "      <td>-5.709471</td>\n",
       "      <td>-7.207022</td>\n",
       "      <td>-7.357617</td>\n",
       "      <td>-7.128095</td>\n",
       "      <td>0.755549</td>\n",
       "    </tr>\n",
       "    <tr>\n",
       "      <th>10</th>\n",
       "      <td>0.001646</td>\n",
       "      <td>0.000079</td>\n",
       "      <td>0.000684</td>\n",
       "      <td>0.000005</td>\n",
       "      <td>7</td>\n",
       "      <td>{'classifier__alpha': 7}</td>\n",
       "      <td>-10.655629</td>\n",
       "      <td>-14.166082</td>\n",
       "      <td>-14.808244</td>\n",
       "      <td>-7.134897</td>\n",
       "      <td>-8.736816</td>\n",
       "      <td>-11.100334</td>\n",
       "      <td>2.988514</td>\n",
       "      <td>5</td>\n",
       "      <td>-9.498871</td>\n",
       "      <td>-9.645171</td>\n",
       "      <td>-7.525654</td>\n",
       "      <td>-9.394592</td>\n",
       "      <td>-9.216176</td>\n",
       "      <td>-9.056093</td>\n",
       "      <td>0.777884</td>\n",
       "    </tr>\n",
       "    <tr>\n",
       "      <th>11</th>\n",
       "      <td>0.001661</td>\n",
       "      <td>0.000054</td>\n",
       "      <td>0.000677</td>\n",
       "      <td>0.000010</td>\n",
       "      <td>10</td>\n",
       "      <td>{'classifier__alpha': 10}</td>\n",
       "      <td>-12.392163</td>\n",
       "      <td>-16.294257</td>\n",
       "      <td>-15.247204</td>\n",
       "      <td>-7.407403</td>\n",
       "      <td>-17.578770</td>\n",
       "      <td>-13.783959</td>\n",
       "      <td>3.617757</td>\n",
       "      <td>9</td>\n",
       "      <td>-10.357795</td>\n",
       "      <td>-11.271548</td>\n",
       "      <td>-8.486144</td>\n",
       "      <td>-10.662699</td>\n",
       "      <td>-10.589240</td>\n",
       "      <td>-10.273485</td>\n",
       "      <td>0.943294</td>\n",
       "    </tr>\n",
       "  </tbody>\n",
       "</table>\n",
       "</div>"
      ],
      "text/plain": [
       "    mean_fit_time  std_fit_time  mean_score_time  std_score_time  \\\n",
       "0        0.005728      0.000383         0.000861        0.000044   \n",
       "1        0.005090      0.001576         0.000719        0.000139   \n",
       "2        0.003818      0.000085         0.000561        0.000021   \n",
       "3        0.002098      0.000892         0.000646        0.000036   \n",
       "4        0.001640      0.000030         0.000691        0.000018   \n",
       "5        0.001666      0.000080         0.000697        0.000041   \n",
       "6        0.001744      0.000066         0.000673        0.000044   \n",
       "7        0.001952      0.000562         0.000684        0.000038   \n",
       "8        0.001639      0.000054         0.000669        0.000028   \n",
       "9        0.001747      0.000122         0.000994        0.000574   \n",
       "10       0.001646      0.000079         0.000684        0.000005   \n",
       "11       0.001661      0.000054         0.000677        0.000010   \n",
       "\n",
       "   param_classifier__alpha                       params  split0_test_score  \\\n",
       "0                      0.1   {'classifier__alpha': 0.1}          -4.403556   \n",
       "1                     0.15  {'classifier__alpha': 0.15}          -4.343279   \n",
       "2                      0.2   {'classifier__alpha': 0.2}          -4.321758   \n",
       "3                     0.25  {'classifier__alpha': 0.25}          -4.323506   \n",
       "4                      0.3   {'classifier__alpha': 0.3}          -4.341076   \n",
       "5                      0.4   {'classifier__alpha': 0.4}          -4.408235   \n",
       "6                      0.5   {'classifier__alpha': 0.5}          -4.503735   \n",
       "7                      0.7   {'classifier__alpha': 0.7}          -4.742872   \n",
       "8                        1   {'classifier__alpha': 1.0}          -5.154276   \n",
       "9                        3     {'classifier__alpha': 3}          -7.618352   \n",
       "10                       7     {'classifier__alpha': 7}         -10.655629   \n",
       "11                      10    {'classifier__alpha': 10}         -12.392163   \n",
       "\n",
       "    split1_test_score  split2_test_score  split3_test_score  \\\n",
       "0           -7.597459         -11.944245         -12.082358   \n",
       "1           -7.499141         -11.978661         -11.454357   \n",
       "2           -7.456304         -12.013473         -10.986083   \n",
       "3           -7.444175         -12.049632         -10.610753   \n",
       "4           -7.451913         -12.087054         -10.297864   \n",
       "5           -7.505754         -12.164722          -9.798340   \n",
       "6           -7.591934         -12.244725          -9.412720   \n",
       "7           -7.815889         -12.406935          -8.851626   \n",
       "8           -8.205029         -12.645365          -8.310657   \n",
       "9          -10.636332         -13.810602          -7.229570   \n",
       "10         -14.166082         -14.808244          -7.134897   \n",
       "11         -16.294257         -15.247204          -7.407403   \n",
       "\n",
       "    split4_test_score  mean_test_score  std_test_score  rank_test_score  \\\n",
       "0          -21.778925       -11.561309        5.861115                7   \n",
       "1           -8.781220        -8.811331        2.782222                3   \n",
       "2           -5.621577        -8.079839        2.982440                1   \n",
       "3           -7.283100        -8.342233        2.719170                2   \n",
       "4          -11.361561        -9.107894        2.857806                4   \n",
       "5          -22.250820       -11.225574        6.079280                6   \n",
       "6          -33.478769       -13.446377       10.327211                8   \n",
       "7          -52.004313       -17.164327       17.591158               10   \n",
       "8          -68.556089       -20.574283       24.109305               12   \n",
       "9          -53.066903       -18.472352       17.459253               11   \n",
       "10          -8.736816       -11.100334        2.988514                5   \n",
       "11         -17.578770       -13.783959        3.617757                9   \n",
       "\n",
       "    split0_train_score  split1_train_score  split2_train_score  \\\n",
       "0            -5.996347           -5.075515           -3.870806   \n",
       "1            -6.028275           -5.114506           -3.885987   \n",
       "2            -6.058777           -5.153376           -3.902580   \n",
       "3            -6.089928           -5.193897           -3.921048   \n",
       "4            -6.122382           -5.236349           -3.941458   \n",
       "5            -6.191537           -5.326198           -3.987753   \n",
       "6            -6.265521           -5.420538           -4.040402   \n",
       "7            -6.422455           -5.614331           -4.160112   \n",
       "8            -6.664427           -5.900131           -4.361827   \n",
       "9            -7.971819           -7.394546           -5.709471   \n",
       "10           -9.498871           -9.645171           -7.525654   \n",
       "11          -10.357795          -11.271548           -8.486144   \n",
       "\n",
       "    split3_train_score  split4_train_score  mean_train_score  std_train_score  \n",
       "0            -4.253119           -5.907369         -5.020631         0.854694  \n",
       "1            -4.326015           -5.949276         -5.060812         0.854210  \n",
       "2            -4.388873           -5.990936         -5.098908         0.855030  \n",
       "3            -4.448591           -6.031556         -5.137004         0.856036  \n",
       "4            -4.507621           -6.070708         -5.175704         0.856809  \n",
       "5            -4.626617           -6.144127         -5.255246         0.857146  \n",
       "6            -4.747649           -6.211342         -5.337090         0.855816  \n",
       "7            -4.992605           -6.330810         -5.504063         0.849342  \n",
       "8            -5.353744           -6.485324         -5.753091         0.834675  \n",
       "9            -7.207022           -7.357617         -7.128095         0.755549  \n",
       "10           -9.394592           -9.216176         -9.056093         0.777884  \n",
       "11          -10.662699          -10.589240        -10.273485         0.943294  "
      ]
     },
     "execution_count": 35,
     "metadata": {},
     "output_type": "execute_result"
    }
   ],
   "source": [
    "df_grid = pd.DataFrame(grid_search.cv_results_)\n",
    "df_grid"
   ]
  },
  {
   "cell_type": "code",
   "execution_count": 36,
   "metadata": {},
   "outputs": [
    {
     "name": "stdout",
     "output_type": "stream",
     "text": [
      "Best lambda: 0.2\n"
     ]
    }
   ],
   "source": [
    "print('Best lambda:' ,grid_search.best_params_['classifier__alpha'])"
   ]
  },
  {
   "cell_type": "markdown",
   "metadata": {},
   "source": [
    "# Results on Test set"
   ]
  },
  {
   "cell_type": "code",
   "execution_count": 37,
   "metadata": {},
   "outputs": [],
   "source": [
    "clf = grid_search.best_estimator_"
   ]
  },
  {
   "cell_type": "code",
   "execution_count": 38,
   "metadata": {},
   "outputs": [],
   "source": [
    "prediction = clf.predict(Xtest)"
   ]
  },
  {
   "cell_type": "code",
   "execution_count": 39,
   "metadata": {},
   "outputs": [],
   "source": [
    "if(prediction.ndim == 1):\n",
    "    prediction = prediction.reshape(-1,1)\n",
    "if(ytest.ndim == 1):\n",
    "    ytest = ytest.reshape(-1,1)"
   ]
  },
  {
   "cell_type": "code",
   "execution_count": 40,
   "metadata": {},
   "outputs": [
    {
     "name": "stdout",
     "output_type": "stream",
     "text": [
      "Loss: 9.708058719358894\n"
     ]
    }
   ],
   "source": [
    "print('Loss:',(((prediction - ytest) ** 2).sum()/ (2*prediction.shape[0])))"
   ]
  }
 ],
 "metadata": {
  "kernelspec": {
   "display_name": "Python 3",
   "language": "python",
   "name": "python3"
  },
  "language_info": {
   "codemirror_mode": {
    "name": "ipython",
    "version": 3
   },
   "file_extension": ".py",
   "mimetype": "text/x-python",
   "name": "python",
   "nbconvert_exporter": "python",
   "pygments_lexer": "ipython3",
   "version": "3.7.7"
  }
 },
 "nbformat": 4,
 "nbformat_minor": 2
}
